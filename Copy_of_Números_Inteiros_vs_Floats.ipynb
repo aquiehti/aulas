{
  "nbformat": 4,
  "nbformat_minor": 0,
  "metadata": {
    "colab": {
      "name": "Copy of Números: Inteiros vs Floats.ipynb",
      "provenance": [],
      "collapsed_sections": [],
      "include_colab_link": true
    },
    "kernelspec": {
      "name": "python3",
      "display_name": "Python 3"
    }
  },
  "cells": [
    {
      "cell_type": "markdown",
      "metadata": {
        "id": "view-in-github",
        "colab_type": "text"
      },
      "source": [
        "<a href=\"https://colab.research.google.com/github/aquiehti/aulas/blob/master/Copy_of_N%C3%BAmeros_Inteiros_vs_Floats.ipynb\" target=\"_parent\"><img src=\"https://colab.research.google.com/assets/colab-badge.svg\" alt=\"Open In Colab\"/></a>"
      ]
    },
    {
      "cell_type": "markdown",
      "metadata": {
        "id": "5sWZ2auRITdD",
        "colab_type": "text"
      },
      "source": [
        "#Inteiros e Floats\n",
        "\n",
        "Os números inteiros (como 5, 4, 33) são do tipo `int`, enquanto aqueles números que carregam uma parte fracional (como 5.5, 3.33, 3.14, 5.0) são do tipo `float`. No começo, lidar com tipos de números pode ser confuso, mas a prática vai fazer você entender.\n",
        "\n",
        "Para saber o tipo de uma variável, você pode usar a função `type`."
      ]
    },
    {
      "cell_type": "markdown",
      "metadata": {
        "id": "mmPSR5XBXk-m",
        "colab_type": "text"
      },
      "source": [
        "No primeiro exemplo, vemos que o número 5 não possui parte fracional, por isso, é um inteiro."
      ]
    },
    {
      "cell_type": "code",
      "metadata": {
        "id": "BOXAIT6WIerI",
        "colab_type": "code",
        "outputId": "df25aaff-05a0-40db-a3f6-ad6016911ad1",
        "colab": {
          "base_uri": "https://localhost:8080/",
          "height": 35
        }
      },
      "source": [
        "# verificando o tipo. Aqui, o 5 é inteiro.\n",
        "type(5) "
      ],
      "execution_count": 0,
      "outputs": [
        {
          "output_type": "execute_result",
          "data": {
            "text/plain": [
              "int"
            ]
          },
          "metadata": {
            "tags": []
          },
          "execution_count": 1
        }
      ]
    },
    {
      "cell_type": "markdown",
      "metadata": {
        "id": "Do9sJwX3Xtj1",
        "colab_type": "text"
      },
      "source": [
        "Quando adicionamos uma parte fracional, o número se torna um `float`."
      ]
    },
    {
      "cell_type": "code",
      "metadata": {
        "id": "b0K51PcpIqht",
        "colab_type": "code",
        "outputId": "120697df-8310-41cf-e05a-cfa7df4b8dbb",
        "colab": {
          "base_uri": "https://localhost:8080/",
          "height": 35
        }
      },
      "source": [
        "# a variável abc representa o número 44.44, que tem parte fracional, portanto, float.\n",
        "abc = 44.44\n",
        "type(abc)"
      ],
      "execution_count": 0,
      "outputs": [
        {
          "output_type": "execute_result",
          "data": {
            "text/plain": [
              "float"
            ]
          },
          "metadata": {
            "tags": []
          },
          "execution_count": 2
        }
      ]
    },
    {
      "cell_type": "markdown",
      "metadata": {
        "id": "L5D8QoV3X60R",
        "colab_type": "text"
      },
      "source": [
        "Caso adicionemos parte fracional ao nosso 5 (`int`), ele passa a ser um `float`, mesmo que a parte fracional seja 0."
      ]
    },
    {
      "cell_type": "code",
      "metadata": {
        "id": "uHeeZGrLIrnq",
        "colab_type": "code",
        "outputId": "c3cab3c6-9b73-4461-956e-b5a48788f720",
        "colab": {
          "base_uri": "https://localhost:8080/",
          "height": 35
        }
      },
      "source": [
        "# aqui o 5.0 é um float.\n",
        "type(5.0)"
      ],
      "execution_count": 0,
      "outputs": [
        {
          "output_type": "execute_result",
          "data": {
            "text/plain": [
              "float"
            ]
          },
          "metadata": {
            "tags": []
          },
          "execution_count": 3
        }
      ]
    },
    {
      "cell_type": "markdown",
      "metadata": {
        "id": "uQPd4cb2YJlz",
        "colab_type": "text"
      },
      "source": [
        "Em mais um exemplo podemos ver que pi é um número com parte fracional, portanto, `float`."
      ]
    },
    {
      "cell_type": "code",
      "metadata": {
        "id": "rpxJyY1DIscO",
        "colab_type": "code",
        "outputId": "63cfb916-1934-440d-9f69-47262adcb8b1",
        "colab": {
          "base_uri": "https://localhost:8080/",
          "height": 35
        }
      },
      "source": [
        "pi = 3.14\n",
        "type(pi)"
      ],
      "execution_count": 0,
      "outputs": [
        {
          "output_type": "execute_result",
          "data": {
            "text/plain": [
              "float"
            ]
          },
          "metadata": {
            "tags": []
          },
          "execution_count": 4
        }
      ]
    },
    {
      "cell_type": "markdown",
      "metadata": {
        "id": "IVUN-7zZYluI",
        "colab_type": "text"
      },
      "source": [
        "Na documentação oficial do Python encontramos que ao fazer a divisão de números inteiros, temos por resultado um número `float`, mesmo que a divisão seja inteira."
      ]
    },
    {
      "cell_type": "code",
      "metadata": {
        "id": "sgZw4KvSIt0_",
        "colab_type": "code",
        "outputId": "6b1d0bb4-6731-4af1-8680-f7506ebd6b80",
        "colab": {
          "base_uri": "https://localhost:8080/",
          "height": 53
        }
      },
      "source": [
        "# divisão de inteiros\n",
        "y = 3 / 3\n",
        "print(y)\n",
        "type(y)"
      ],
      "execution_count": 0,
      "outputs": [
        {
          "output_type": "stream",
          "text": [
            "1.0\n"
          ],
          "name": "stdout"
        },
        {
          "output_type": "execute_result",
          "data": {
            "text/plain": [
              "float"
            ]
          },
          "metadata": {
            "tags": []
          },
          "execution_count": 5
        }
      ]
    },
    {
      "cell_type": "code",
      "metadata": {
        "id": "dfAPXlqXIu-g",
        "colab_type": "code",
        "outputId": "7a147814-b410-4a97-c140-882be94627cf",
        "colab": {
          "base_uri": "https://localhost:8080/",
          "height": 71
        }
      },
      "source": [
        "# uma divisão SEMPRE vai retornar um float como resultado\n",
        "print(type(3 / 3))\n",
        "print(type(10.0 / 5))\n",
        "print(type(10.0 / 2.0))"
      ],
      "execution_count": 0,
      "outputs": [
        {
          "output_type": "stream",
          "text": [
            "<class 'float'>\n",
            "<class 'float'>\n",
            "<class 'float'>\n"
          ],
          "name": "stdout"
        }
      ]
    },
    {
      "cell_type": "markdown",
      "metadata": {
        "id": "1KpYHK8dIwO-",
        "colab_type": "text"
      },
      "source": [
        "Existem momentos em que você vai querer converter um `float` em `int`. Isso pode ser feito com `int()`. O mesmo vale para a operação contrário, bastando indicar a variável dentro dos parênteses."
      ]
    },
    {
      "cell_type": "code",
      "metadata": {
        "id": "B4-evh-ZIyzs",
        "colab_type": "code",
        "outputId": "70af3316-51e7-4569-8474-2c66fa1b5e30",
        "colab": {
          "base_uri": "https://localhost:8080/",
          "height": 35
        }
      },
      "source": [
        "idade = 35.00\n",
        "type(idade)"
      ],
      "execution_count": 0,
      "outputs": [
        {
          "output_type": "execute_result",
          "data": {
            "text/plain": [
              "float"
            ]
          },
          "metadata": {
            "tags": []
          },
          "execution_count": 7
        }
      ]
    },
    {
      "cell_type": "code",
      "metadata": {
        "id": "ttXnxK28I0YO",
        "colab_type": "code",
        "outputId": "bf761120-bc0d-4d8f-b0e7-e88a5ed8d313",
        "colab": {
          "base_uri": "https://localhost:8080/",
          "height": 35
        }
      },
      "source": [
        "# converter\n",
        "idade = int(idade)\n",
        "type(idade)"
      ],
      "execution_count": 0,
      "outputs": [
        {
          "output_type": "execute_result",
          "data": {
            "text/plain": [
              "int"
            ]
          },
          "metadata": {
            "tags": []
          },
          "execution_count": 8
        }
      ]
    },
    {
      "cell_type": "code",
      "metadata": {
        "id": "Z4h-aj4rI2lY",
        "colab_type": "code",
        "outputId": "48d22b61-cfb0-477c-dcf9-fd18d1d6646e",
        "colab": {
          "base_uri": "https://localhost:8080/",
          "height": 35
        }
      },
      "source": [
        "float(3)"
      ],
      "execution_count": 0,
      "outputs": [
        {
          "output_type": "execute_result",
          "data": {
            "text/plain": [
              "3.0"
            ]
          },
          "metadata": {
            "tags": []
          },
          "execution_count": 9
        }
      ]
    },
    {
      "cell_type": "markdown",
      "metadata": {
        "id": "0TzMUj6xI3lY",
        "colab_type": "text"
      },
      "source": [
        "Existe ainda uma opção quando eu quero realizar uma divisão, porém quero ficar apenas com a parte inteira de um número, descartando toda a parte fracionária. Essa operação pode ser feita usando `//`."
      ]
    },
    {
      "cell_type": "code",
      "metadata": {
        "id": "vodOe_VNI5k2",
        "colab_type": "code",
        "outputId": "e03ae91f-4aec-45ea-8243-f960e26abc82",
        "colab": {
          "base_uri": "https://localhost:8080/",
          "height": 53
        }
      },
      "source": [
        "print(11 / 3)  # divisão normal com /\n",
        "print(11 // 3) # divisão usando //"
      ],
      "execution_count": 0,
      "outputs": [
        {
          "output_type": "stream",
          "text": [
            "3.6666666666666665\n",
            "3\n"
          ],
          "name": "stdout"
        }
      ]
    },
    {
      "cell_type": "markdown",
      "metadata": {
        "id": "9Hvlr-1HcquF",
        "colab_type": "text"
      },
      "source": [
        "## Exercícios\n",
        "\n",
        "Agora que vimos um pouco mais sobre inteiros e floats, vamos praticar um pouco."
      ]
    },
    {
      "cell_type": "markdown",
      "metadata": {
        "id": "qGH4BlbEe9Ut",
        "colab_type": "text"
      },
      "source": [
        "#### Exercício 1\n",
        "Transforme o resultado a divisão de inteiros em inteiro.\n",
        "\n",
        "$$\n",
        "\\begin{aligned}\n",
        "x & = 25 / 5\n",
        "\\end{aligned}\n",
        "$$"
      ]
    },
    {
      "cell_type": "code",
      "metadata": {
        "id": "mCopQuIOcSoC",
        "colab_type": "code",
        "colab": {
          "base_uri": "https://localhost:8080/",
          "height": 51
        },
        "outputId": "bfdf7097-8ef0-47b5-eaa0-bf61c2fad4a8"
      },
      "source": [
        "# resposta\n",
        "x = int (25 / 5)\n",
        "print (x)\n",
        "type (x)\n"
      ],
      "execution_count": 5,
      "outputs": [
        {
          "output_type": "stream",
          "text": [
            "5\n"
          ],
          "name": "stdout"
        },
        {
          "output_type": "execute_result",
          "data": {
            "text/plain": [
              "int"
            ]
          },
          "metadata": {
            "tags": []
          },
          "execution_count": 5
        }
      ]
    },
    {
      "cell_type": "code",
      "metadata": {
        "id": "DcQqM81MhT60",
        "colab_type": "code",
        "cellView": "both",
        "colab": {
          "base_uri": "https://localhost:8080/",
          "height": 85
        },
        "outputId": "d39348a2-3c76-4c34-c7bb-b29be9e52e5d"
      },
      "source": [
        "#@title Solução\n",
        "x = 25/5\n",
        "print('Resultado como float: ', x)\n",
        "print('Tipo: ', type(x))\n",
        "#transformando em int\n",
        "x = int(x)\n",
        "print('Resultado como integer: ', x)\n",
        "print('Tipo: ', type(x))"
      ],
      "execution_count": 1,
      "outputs": [
        {
          "output_type": "stream",
          "text": [
            "Resultado como float:  5.0\n",
            "Tipo:  <class 'float'>\n",
            "Resultado como integer:  5\n",
            "Tipo:  <class 'int'>\n"
          ],
          "name": "stdout"
        }
      ]
    },
    {
      "cell_type": "markdown",
      "metadata": {
        "id": "Rl3RIqLkic6f",
        "colab_type": "text"
      },
      "source": [
        "#### Exercício 2\n",
        "Use a função `type()` para descobrir os tipos das seguintes variáveis:"
      ]
    },
    {
      "cell_type": "code",
      "metadata": {
        "id": "lkgNPyX3iqM4",
        "colab_type": "code",
        "colab": {}
      },
      "source": [
        "# variáveis\n",
        "x = 33\n",
        "y = 33/3\n",
        "z = 33.5"
      ],
      "execution_count": 0,
      "outputs": []
    },
    {
      "cell_type": "code",
      "metadata": {
        "id": "yCWRX2fIlEfN",
        "colab_type": "code",
        "colab": {
          "base_uri": "https://localhost:8080/",
          "height": 68
        },
        "outputId": "3a815a89-fdd5-42b4-adcb-98de48731cf0"
      },
      "source": [
        "# resposta\n",
        "print (type (x))\n",
        "print (type (y))\n",
        "print (type (z))\n"
      ],
      "execution_count": 7,
      "outputs": [
        {
          "output_type": "stream",
          "text": [
            "<class 'int'>\n",
            "<class 'float'>\n",
            "<class 'float'>\n"
          ],
          "name": "stdout"
        }
      ]
    },
    {
      "cell_type": "code",
      "metadata": {
        "id": "ddDmJbpth06P",
        "colab_type": "code",
        "cellView": "both",
        "colab": {
          "base_uri": "https://localhost:8080/",
          "height": 68
        },
        "outputId": "5e254f85-1fc5-4e1b-bb38-a3ebdc37e302"
      },
      "source": [
        "#@title Solução\n",
        "print(type(x))\n",
        "print(type(y))\n",
        "print(type(z))"
      ],
      "execution_count": 8,
      "outputs": [
        {
          "output_type": "stream",
          "text": [
            "<class 'int'>\n",
            "<class 'float'>\n",
            "<class 'float'>\n"
          ],
          "name": "stdout"
        }
      ]
    },
    {
      "cell_type": "markdown",
      "metadata": {
        "id": "DN10x95sk5d9",
        "colab_type": "text"
      },
      "source": [
        "#### Exercício 3\n",
        "Usando as variáveis do exercício anterior, transforme todas elas em `int`."
      ]
    },
    {
      "cell_type": "code",
      "metadata": {
        "id": "4QQUchCTlYVG",
        "colab_type": "code",
        "colab": {
          "base_uri": "https://localhost:8080/",
          "height": 68
        },
        "outputId": "27398ce6-86d4-4bab-9f7a-29233117d1f0"
      },
      "source": [
        "# resposta\n",
        "x = int(x)\n",
        "y = int(y)\n",
        "z = int(z)\n",
        "\n",
        "print (type(x))\n",
        "print (type(y))\n",
        "print (type(z))"
      ],
      "execution_count": 14,
      "outputs": [
        {
          "output_type": "stream",
          "text": [
            "<class 'int'>\n",
            "<class 'int'>\n",
            "<class 'int'>\n"
          ],
          "name": "stdout"
        }
      ]
    },
    {
      "cell_type": "code",
      "metadata": {
        "id": "eeq1gh-Mkx8V",
        "colab_type": "code",
        "cellView": "both",
        "colab": {}
      },
      "source": [
        "#@title Solução\n",
        "x = int(x)\n",
        "y = int(y)\n",
        "z = int(z)\n",
        "\n",
        "# conferindo os tipos\n",
        "print(type(x))\n",
        "print(type(y))\n",
        "print(type(z))"
      ],
      "execution_count": 0,
      "outputs": []
    },
    {
      "cell_type": "markdown",
      "metadata": {
        "id": "O-bubRqplXrU",
        "colab_type": "text"
      },
      "source": [
        "#### Exercício 3\n",
        "Usando as variáveis do exercício anterior, transforme todas elas em `float`."
      ]
    },
    {
      "cell_type": "code",
      "metadata": {
        "id": "lkKomdl4lhKE",
        "colab_type": "code",
        "colab": {
          "base_uri": "https://localhost:8080/",
          "height": 68
        },
        "outputId": "4ffd6f0c-2d32-4485-d081-62f9f028a680"
      },
      "source": [
        "# resposta\n",
        "x = float(x)\n",
        "y = float(y)\n",
        "z = float(z)\n",
        "\n",
        "print(type(x))\n",
        "print(type(y))\n",
        "print(type(z))\n"
      ],
      "execution_count": 16,
      "outputs": [
        {
          "output_type": "stream",
          "text": [
            "<class 'float'>\n",
            "<class 'float'>\n",
            "<class 'float'>\n"
          ],
          "name": "stdout"
        }
      ]
    },
    {
      "cell_type": "code",
      "metadata": {
        "id": "sfcdCbJBlDe8",
        "colab_type": "code",
        "cellView": "both",
        "colab": {}
      },
      "source": [
        "#@title Solução\n",
        "x = float(x)\n",
        "y = float(y)\n",
        "z = float(z)\n",
        "\n",
        "# conferindo os tipos\n",
        "print(type(x))\n",
        "print(type(y))\n",
        "print(type(z))"
      ],
      "execution_count": 0,
      "outputs": []
    },
    {
      "cell_type": "code",
      "metadata": {
        "id": "9BxBW7Fjld8k",
        "colab_type": "code",
        "colab": {}
      },
      "source": [
        ""
      ],
      "execution_count": 0,
      "outputs": []
    }
  ]
}